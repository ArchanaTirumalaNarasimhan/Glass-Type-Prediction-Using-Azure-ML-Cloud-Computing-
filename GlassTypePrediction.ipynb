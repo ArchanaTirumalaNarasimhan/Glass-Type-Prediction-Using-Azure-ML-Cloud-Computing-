{
  "cells": [
    {
      "cell_type": "code",
      "source": [
        "import urllib.request\n",
        "import json\n",
        "import os\n",
        "import ssl\n",
        "\n",
        "def allowSelfSignedHttps(allowed):\n",
        "    # bypass the server certificate verification on client side\n",
        "    if allowed and not os.environ.get('PYTHONHTTPSVERIFY', '') and getattr(ssl, '_create_unverified_context', None):\n",
        "        ssl._create_default_https_context = ssl._create_unverified_context\n",
        "\n",
        "allowSelfSignedHttps(True) # this line is needed if you use self-signed certificate in your scoring service.\n",
        "\n",
        "# Request data goes here\n",
        "# The example below assumes JSON formatting which may be updated\n",
        "# depending on the format your endpoint expects.\n",
        "# More information can be found here:\n",
        "# https://docs.microsoft.com/azure/machine-learning/how-to-deploy-advanced-entry-script\n",
        "data =  {\n",
        "  \"Inputs\": {\n",
        "    \"input1\": [\n",
        "      {\n",
        "        \"RI\": 1.52101,\n",
        "        \"Na\": 13.64,\n",
        "        \"Mg\": 4.49,\n",
        "        \"Al\": 1.1,\n",
        "        \"Si\": 71.78,\n",
        "        \"K\": 0.06,\n",
        "        \"Ca\": 8.75,\n",
        "        \"Ba\": 0.0,\n",
        "        \"Fe\": 0.0,\n",
        "        \"Type\": 1\n",
        "      },\n",
        "      {\n",
        "        \"RI\": 1.51761,\n",
        "        \"Na\": 13.89,\n",
        "        \"Mg\": 3.6,\n",
        "        \"Al\": 1.36,\n",
        "        \"Si\": 72.73,\n",
        "        \"K\": 0.48,\n",
        "        \"Ca\": 7.83,\n",
        "        \"Ba\": 0.0,\n",
        "        \"Fe\": 0.0,\n",
        "        \"Type\": 1\n",
        "      },\n",
        "      {\n",
        "        \"RI\": 1.51618,\n",
        "        \"Na\": 13.53,\n",
        "        \"Mg\": 3.55,\n",
        "        \"Al\": 1.54,\n",
        "        \"Si\": 72.99,\n",
        "        \"K\": 0.39,\n",
        "        \"Ca\": 7.78,\n",
        "        \"Ba\": 0.0,\n",
        "        \"Fe\": 0.0,\n",
        "        \"Type\": 1\n",
        "      },\n",
        "      {\n",
        "        \"RI\": 1.51766,\n",
        "        \"Na\": 13.21,\n",
        "        \"Mg\": 3.69,\n",
        "        \"Al\": 1.29,\n",
        "        \"Si\": 72.61,\n",
        "        \"K\": 0.57,\n",
        "        \"Ca\": 8.22,\n",
        "        \"Ba\": 0.0,\n",
        "        \"Fe\": 0.0,\n",
        "        \"Type\": 1\n",
        "      },\n",
        "      {\n",
        "        \"RI\": 1.51742,\n",
        "        \"Na\": 13.27,\n",
        "        \"Mg\": 3.62,\n",
        "        \"Al\": 1.24,\n",
        "        \"Si\": 73.08,\n",
        "        \"K\": 0.55,\n",
        "        \"Ca\": 8.07,\n",
        "        \"Ba\": 0.0,\n",
        "        \"Fe\": 0.0,\n",
        "        \"Type\": 1\n",
        "      }\n",
        "    ]\n",
        "  },\n",
        "  \"GlobalParameters\": {}\n",
        "}\n",
        "\n",
        "body = str.encode(json.dumps(data))\n",
        "\n",
        "url = 'http://67010ac1-7994-49ce-97a9-005758223df5.eastus.azurecontainer.io/score'\n",
        "# Replace this with the primary/secondary key or AMLToken for the endpoint\n",
        "api_key = 'snMULDYjHStYNcRZMuZmHQCrB0F3IzFJ'\n",
        "if not api_key:\n",
        "    raise Exception(\"A key should be provided to invoke the endpoint\")\n",
        "\n",
        "\n",
        "headers = {'Content-Type':'application/json', 'Authorization':('Bearer '+ api_key)}\n",
        "\n",
        "req = urllib.request.Request(url, body, headers)\n",
        "\n",
        "try:\n",
        "    response = urllib.request.urlopen(req)\n",
        "\n",
        "    result = response.read()\n",
        "    print(result)\n",
        "except urllib.error.HTTPError as error:\n",
        "    print(\"The request failed with status code: \" + str(error.code))\n",
        "\n",
        "    # Print the headers - they include the requert ID and the timestamp, which are useful for debugging the failure\n",
        "    print(error.info())\n",
        "    print(error.read().decode(\"utf8\", 'ignore'))\n"
      ],
      "outputs": [
        {
          "output_type": "stream",
          "name": "stdout",
          "text": "b'{\"Results\": {\"WebServiceOutput0\": [{\"Type\": 0.0}, {\"Type\": 0.0}, {\"Type\": 0.16666666666666666}, {\"Type\": 0.0}, {\"Type\": 0.0}]}}'\n"
        }
      ],
      "execution_count": 1,
      "metadata": {
        "gather": {
          "logged": 1700180779561
        }
      }
    },
    {
      "cell_type": "code",
      "source": [],
      "outputs": [],
      "execution_count": null,
      "metadata": {
        "jupyter": {
          "source_hidden": false,
          "outputs_hidden": false
        },
        "nteract": {
          "transient": {
            "deleting": false
          }
        }
      }
    }
  ],
  "metadata": {
    "kernelspec": {
      "name": "python310-sdkv2",
      "language": "python",
      "display_name": "Python 3.10 - SDK v2"
    },
    "language_info": {
      "name": "python",
      "version": "3.10.11",
      "mimetype": "text/x-python",
      "codemirror_mode": {
        "name": "ipython",
        "version": 3
      },
      "pygments_lexer": "ipython3",
      "nbconvert_exporter": "python",
      "file_extension": ".py"
    },
    "microsoft": {
      "ms_spell_check": {
        "ms_spell_check_language": "en"
      }
    },
    "kernel_info": {
      "name": "python310-sdkv2"
    },
    "nteract": {
      "version": "nteract-front-end@1.0.0"
    }
  },
  "nbformat": 4,
  "nbformat_minor": 2
}